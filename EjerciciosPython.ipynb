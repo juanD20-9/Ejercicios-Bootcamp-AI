{
 "cells": [
  {
   "cell_type": "code",
   "execution_count": 3,
   "id": "86527017-2272-4382-8ae7-feff3644dfcb",
   "metadata": {},
   "outputs": [
    {
     "name": "stdin",
     "output_type": "stream",
     "text": [
      "Ingrese un número entero:  7\n"
     ]
    },
    {
     "name": "stdout",
     "output_type": "stream",
     "text": [
      "El número 7 es impar\n"
     ]
    }
   ],
   "source": [
    "# Escribir un programa que solicite un valor entero al usuario y determine si es par o impar.\n",
    "numero = int(input(\"Ingrese un número entero: \"))\n",
    "if numero % 2 == 0:\n",
    "    print(\"El número\", numero, \"es par\")\n",
    "else:\n",
    "    print(\"El número\", numero, \"es impar\")"
   ]
  },
  {
   "cell_type": "code",
   "execution_count": 3,
   "id": "a12b3424-283b-40e9-af15-32481cd38d3a",
   "metadata": {},
   "outputs": [
    {
     "name": "stdin",
     "output_type": "stream",
     "text": [
      "Por favor ingresa un número:  -9\n"
     ]
    },
    {
     "name": "stdout",
     "output_type": "stream",
     "text": [
      "El número -9 es negativo\n"
     ]
    }
   ],
   "source": [
    " # Escribir un programa que solicite un valor entero al usuario y determine si es positivo o negativo.\n",
    "numero = int(input(\"Por favor ingresa un número: \"))\n",
    "if numero > 0:\n",
    "    print(\"El número\", numero, \"es positivo\")\n",
    "else:\n",
    "    print(\"El número\", numero, \"es negativo\")"
   ]
  },
  {
   "cell_type": "code",
   "execution_count": 5,
   "id": "f88f7a0e-9a86-43f0-88f1-8b9a5ea05878",
   "metadata": {},
   "outputs": [
    {
     "name": "stdin",
     "output_type": "stream",
     "text": [
      "Ingresa un valor entero  79\n",
      "Ingresa otro valor entero  65\n"
     ]
    },
    {
     "name": "stdout",
     "output_type": "stream",
     "text": [
      "La suma es:  144\n",
      "La resta es:  14\n",
      "El producto es:  5135\n"
     ]
    }
   ],
   "source": [
    "''' \n",
    "Pedir al usuario un valor. Si el valor es positivo, pedir un segundo valor y calcular la suma, resta y producto de \n",
    "ambos. Mostrar los resultados por pantalla.\n",
    "'''\n",
    "\n",
    "numero = int(input(\"Ingresa un valor entero \"))\n",
    "if numero > 0:\n",
    "    numero_dos = int(input(\"Ingresa otro valor entero \"))\n",
    "    suma = numero + numero_dos\n",
    "    resta = numero - numero_dos\n",
    "    producto = numero * numero_dos\n",
    "\n",
    "print(\"La suma es: \", suma)\n",
    "print(\"La resta es: \", resta)\n",
    "print(\"El producto es: \", producto)"
   ]
  },
  {
   "cell_type": "code",
   "execution_count": 7,
   "id": "e0afe560-4807-4020-83a9-451ede8b4b71",
   "metadata": {},
   "outputs": [
    {
     "name": "stdin",
     "output_type": "stream",
     "text": [
      "Ingresa un número entero:  9\n",
      "Ingresa otro número entero:  23\n"
     ]
    },
    {
     "name": "stdout",
     "output_type": "stream",
     "text": [
      "El número 23 es mayor que  9\n"
     ]
    }
   ],
   "source": [
    "#### Calcular el mayor de dos números enteros introducidos por teclado. \n",
    "numero_uno = int(input(\"Ingresa un número entero: \"))\n",
    "numero_dos = int(input(\"Ingresa otro número entero: \"))\n",
    "\n",
    "if numero_uno > numero_dos:\n",
    "    print(\"El número\", numero_uno, \"es mayor que \", numero_dos)\n",
    "else:\n",
    "    print(\"El número\", numero_dos, \"es mayor que \", numero_uno)"
   ]
  },
  {
   "cell_type": "code",
   "execution_count": 9,
   "id": "c5737232-99d6-4c3a-90e1-97202c5954fb",
   "metadata": {},
   "outputs": [
    {
     "name": "stdin",
     "output_type": "stream",
     "text": [
      "Ingresa un número entero:  7\n",
      "Ingresa otro número:  10\n",
      "Ingresa otro número:  4\n"
     ]
    },
    {
     "name": "stdout",
     "output_type": "stream",
     "text": [
      "El número 10 es mayor que los demas valores\n"
     ]
    }
   ],
   "source": [
    "# Calcular el mayor de tres números enteros introducidos por teclado. \n",
    "numero_uno = int(input(\"Ingresa un número entero: \"))\n",
    "numero_dos = int(input(\"Ingresa otro número: \"))\n",
    "numero_tres = int(input(\"Ingresa otro número: \"))\n",
    "\n",
    "if numero_uno > numero_dos and numero_uno > numero_tres:\n",
    "    print(\"El número\", numero_uno, \"es mayor que los demas valores\")\n",
    "elif numero_dos > numero_uno and numero_dos > numero_tres:\n",
    "    print(\"El número\", numero_dos, \"es mayor que los demas valores\")\n",
    "else:\n",
    "    print(\"El número\", numero_tres, \"es mayor que los demas valores\")"
   ]
  },
  {
   "cell_type": "code",
   "execution_count": 11,
   "id": "00862a0f-3af6-4964-9152-f6c25ddb1c8e",
   "metadata": {},
   "outputs": [
    {
     "name": "stdin",
     "output_type": "stream",
     "text": [
      "Ingresa un número:  8\n",
      "Ingresa un número:  9\n",
      "Ingresa un número:  12\n",
      "Ingresa un número:  5\n"
     ]
    },
    {
     "name": "stdout",
     "output_type": "stream",
     "text": [
      "El número más grande es el  12\n"
     ]
    }
   ],
   "source": [
    "# Calcular el mayor de cuatro números enteros introducidos por teclado. \n",
    "numero_uno = int(input(\"Ingresa un número: \")) \n",
    "numero_dos = int(input(\"Ingresa un número: \"))\n",
    "numero_tres = int(input(\"Ingresa un número: \"))\n",
    "numero_cuatro = int(input(\"Ingresa un número: \"))\n",
    "\n",
    "numeros = numero_uno, numero_dos, numero_tres, numero_cuatro\n",
    "num_mayor = max(numeros) #Uso de la función 'max' para encontrar el mayor valor\n",
    "print(\"El número más grande es el \", num_mayor)"
   ]
  },
  {
   "cell_type": "code",
   "execution_count": 14,
   "id": "cc3e3189-e597-4a0e-9302-82f5283a4099",
   "metadata": {},
   "outputs": [
    {
     "name": "stdin",
     "output_type": "stream",
     "text": [
      "Ingrese el valor de la temperatura:  345\n"
     ]
    },
    {
     "name": "stdout",
     "output_type": "stream",
     "text": [
      "El estado del agua es gaseoso\n"
     ]
    }
   ],
   "source": [
    "'''\n",
    "Determinar en que estado está el agua en función de su temperatura. Si es negativa el estado será sólido, si es \n",
    "menor que 100 será líquido y si es mayor que 100 será gas. Pedir al usuario el valor de la temperatura.\n",
    "'''\n",
    "\n",
    "temperatura = int(input(\"Ingrese el valor de la temperatura: \"))\n",
    "if temperatura < 0:\n",
    "    print(\"El estado del agua es sólido\")\n",
    "elif temperatura < 100 and temperatura > 0:\n",
    "    print(\"El estado del agua es líquido\")\n",
    "else:\n",
    "    print(\"El estado del agua es gaseoso\")"
   ]
  },
  {
   "cell_type": "code",
   "execution_count": 16,
   "id": "8ef4d7a1-7bc9-45f4-b1de-4ad2d71ee38b",
   "metadata": {},
   "outputs": [
    {
     "name": "stdin",
     "output_type": "stream",
     "text": [
      "Ingresa el valor de un año:  1660\n"
     ]
    },
    {
     "name": "stdout",
     "output_type": "stream",
     "text": [
      "El año 1660 es bisiesto\n"
     ]
    }
   ],
   "source": [
    "'''\n",
    "Un año es bisiesto si es divisible por 4 y no es por 100, o si es divisible por 400. Escribe un programa que lea un \n",
    "año y devuelva si es bisiesto o no.\n",
    "'''\n",
    "\n",
    "anio = int(input(\"Ingresa el valor de un año: \"))\n",
    "if anio % 4 == 0:\n",
    "    print(\"El año\", anio, \"es bisiesto\")\n",
    "else:\n",
    "    print(\"El año\", anio, \"no es bisiesto\")"
   ]
  },
  {
   "cell_type": "code",
   "execution_count": 19,
   "id": "0e181c2c-8879-446e-b0ed-b58bdca7981b",
   "metadata": {},
   "outputs": [
    {
     "name": "stdin",
     "output_type": "stream",
     "text": [
      "Ingrese el mes actual:  6\n",
      "Ingrese el día actual:  2\n",
      "Ingrese el año actual:  2025\n"
     ]
    },
    {
     "name": "stdout",
     "output_type": "stream",
     "text": [
      "La fecha actual es:  6 - 2 - 2025\n",
      "La fecha del día siguiente será:  6 - 3 - 2025\n"
     ]
    }
   ],
   "source": [
    "# Dada la fecha de hoy, calcular la fecha del día siguiente. Suponer que el año no es bisiesto. \n",
    "mes = int(input(\"Ingrese el mes actual: \"))\n",
    "dia = int(input(\"Ingrese el día actual: \"))\n",
    "anio = int(input(\"Ingrese el año actual: \"))\n",
    "print(\"La fecha actual es: \", mes,\"-\",dia,\"-\",anio)\n",
    "if dia == dia:\n",
    "    dia += 1\n",
    "    print(\"La fecha del día siguiente será: \", mes,\"-\", dia,\"-\", anio)"
   ]
  },
  {
   "cell_type": "code",
   "execution_count": 21,
   "id": "ccd94c91-0134-41b3-b438-a801a676e80f",
   "metadata": {},
   "outputs": [
    {
     "name": "stdin",
     "output_type": "stream",
     "text": [
      "Ingrese un número de mes:  5\n"
     ]
    },
    {
     "name": "stdout",
     "output_type": "stream",
     "text": [
      "El mes ingresado es  Mayo\n"
     ]
    }
   ],
   "source": [
    "# Pedir un mes (número) y mostrar el nombre del mes.\n",
    "meses = [\"Enero\", \"Febrero\", \"Marzo\", \"Abril\", \"Mayo\", \"Junio\", \"Julio\", \"Agosto\", \"Septiembre\", \"Octubre\", \"Noviembre\", \"Diciembre\"]\n",
    "mes = int(input(\"Ingrese un número de mes: \"))\n",
    "\n",
    "if mes > 0 and mes <= 12:\n",
    "    print(\"El mes ingresado es \", meses[mes - 1])\n",
    "else:\n",
    "    print(\"El número ingresado no corresponde a un mes\")"
   ]
  },
  {
   "cell_type": "code",
   "execution_count": 22,
   "id": "87d05a7f-44ca-4b65-b9f1-e43795da5d11",
   "metadata": {},
   "outputs": [
    {
     "name": "stdin",
     "output_type": "stream",
     "text": [
      "Ingresa la inicial del día de la semana que quieras:  g\n"
     ]
    },
    {
     "name": "stdout",
     "output_type": "stream",
     "text": [
      "La letra ingresada no pertenece a un día de la semana\n"
     ]
    }
   ],
   "source": [
    "# Solicitar al usuario la inicial del día de la semana y mostrar el nombre del día completo. La letra inicial puede ser \n",
    "# mayúscula o minúscula. Usar la x para el miércoles. \n",
    "\n",
    "dia = input(\"Ingresa la inicial del día de la semana que quieras: \")\n",
    "\n",
    "if dia == 'L' or dia == 'l':\n",
    "    print(\"Es el día Lunes\")\n",
    "elif dia == 'M' or dia == 'm':\n",
    "    print(\"Es el día Martes\")\n",
    "elif dia == 'X' or dia == 'x':\n",
    "    print(\"Es el día Miercoles\")\n",
    "elif dia == 'J' or dia == 'j':\n",
    "    print(\"Es el día Jueves\")\n",
    "elif dia == 'V' or dia == 'v':\n",
    "    print(\"Es el día Viernes\")\n",
    "elif dia == 'S' or dia == 's':\n",
    "    print(\"Es el día Sabado\")\n",
    "elif dia == 'D' or dia == 'd':\n",
    "    print(\"Es el día Domingo\")\n",
    "else:\n",
    "    print(\"La letra ingresada no pertenece a un día de la semana\")"
   ]
  },
  {
   "cell_type": "code",
   "execution_count": 27,
   "id": "2e4f2e23-042a-4205-91fa-54bbe6f1dd04",
   "metadata": {},
   "outputs": [
    {
     "name": "stdin",
     "output_type": "stream",
     "text": [
      "Ingresa el día de la fecha que quieras:  12\n",
      "Ingresa el mes que quieras:  3\n",
      "Ingresa el año que quieras:  -1890\n"
     ]
    },
    {
     "name": "stdout",
     "output_type": "stream",
     "text": [
      "La fecha no es correcta, el valor del año es negativo, no existen años negativos\n"
     ]
    }
   ],
   "source": [
    "'''\n",
    "1.12. Solicitar al usuario una fecha (dd:mm:aaaa) y comprobar si es correcta. Para que una fecha sea correcta es \n",
    "necesario: \n",
    "• El año debe ser mayor que cero. \n",
    "• El mes debe estar entre 1 y 12. \n",
    "• Dependiendo del mes que sea, el día debe estar dentro de los límites válidos. Los meses que tienen 31 días \n",
    "son 1, 3, 5, 7, 8, 10 y 12. Los meses de 30 días son 4, 6, 9 y 11. El mes de 28 días es 2, excepto en un año \n",
    "bisiesto que es 29 días.\n",
    "'''\n",
    "\n",
    "dia = int(input(\"Ingresa el día de la fecha que quieras: \"))\n",
    "mes = int(input(\"Ingresa el mes que quieras: \"))\n",
    "anio = int(input(\"Ingresa el año que quieras: \"))\n",
    "\n",
    "if anio > 0:\n",
    "    if mes >= 1 and mes <= 12:\n",
    "        print(\"La fecha es correcta \", dia,':',mes,':',anio)\n",
    "    else:\n",
    "        print(\"La fecha no es correcta\")\n",
    "else:\n",
    "    print(\"La fecha no es correcta, el valor del año es negativo, no existen años negativos\")\n",
    "\n",
    "#print(dia,':',mes,':',anio)"
   ]
  },
  {
   "cell_type": "code",
   "execution_count": 43,
   "id": "4295e129-d1a9-4c56-b42c-c0d1c6ba14f2",
   "metadata": {},
   "outputs": [
    {
     "name": "stdin",
     "output_type": "stream",
     "text": [
      "Ingrese la cantidad de minutos que necesita  79\n"
     ]
    },
    {
     "name": "stdout",
     "output_type": "stream",
     "text": [
      "El total a pagar de su llamada es de 158 BsF\n"
     ]
    }
   ],
   "source": [
    "'''\n",
    "1.13. Escribir un programa que permita determinar la cantidad total a pagar por una llamada telefónica de N minutos \n",
    "(introducido por el usuario), teniendo en cuenta lo siguiente: \n",
    "• Las llamadas de 5 minutos o menos tienen un coste de 10 BsF. \n",
    "• Cada minuto adicional a partir de los 5 primeros cuesta 2 BsF. \n",
    "'''\n",
    "\n",
    "n_minut = int(input(\"Ingrese la cantidad de minutos que necesita \"))\n",
    "cargo_uno = n_minut * 10\n",
    "cargo_dos = n_minut * 2\n",
    "\n",
    "if n_minut == 5:\n",
    "    print(\"El total a pagar de su llamada es de\",cargo_uno,\"BsF\")\n",
    "elif n_minut > 5:\n",
    "    print(\"El total a pagar de su llamada es de\",cargo_dos,\"BsF\")\n",
    "else:\n",
    "    print(\"La cantidad de minutos que uso no tiene costo, vuelva pronto!\")\n",
    "    \n"
   ]
  },
  {
   "cell_type": "code",
   "execution_count": 62,
   "id": "d94bea47-5d6d-449f-bd85-2b7009170ef8",
   "metadata": {},
   "outputs": [
    {
     "name": "stdin",
     "output_type": "stream",
     "text": [
      "Ingresa el valor del articulo 1.78\n"
     ]
    },
    {
     "name": "stdout",
     "output_type": "stream",
     "text": [
      "El precio de venta es de 1.93 Bs\n"
     ]
    }
   ],
   "source": [
    "'''\n",
    "1.14. El dueño de una papelería desea un programa que le indique el precio de venta de un artículo dado. El precio se \n",
    "calcula de acuerdo con la siguiente fórmula: PVP = precio_coste + ganancia. Donde la ganancia será: \n",
    "• El 15% si el precio de coste es inferior Bs. 3. \n",
    "• 50 céntimos si el precio de coste está entre Bs. 3 y Bs. 6. \n",
    "• El 25% si el precio de coste supera los Bs. 6.\n",
    "'''\n",
    "\n",
    "precio_arti = float(input(\"Ingresa el valor del articulo\"))\n",
    "ganancia_uno = 0.15\n",
    "ganancia_dos = 50\n",
    "ganancia_tres = 0.25\n",
    "pvp = 0\n",
    "\n",
    "if precio_arti < 3:\n",
    "    pvp = precio_arti + ganancia_uno\n",
    "    print(\"El precio de venta es de\", pvp, \"Bs\")\n",
    "elif precio_arti >= 3 and precio_arti <= 6:\n",
    "    pvp = precio_arti + ganancia_dos\n",
    "    print(\"El precio de venta es de\", pvp, \"Bs\")\n",
    "elif precio_arti > 6:\n",
    "    pvp = precio_arti + ganancia_tres\n",
    "    print(\"El precio de venta es de\", pvp, \"BS\")"
   ]
  },
  {
   "cell_type": "code",
   "execution_count": null,
   "id": "c548523c-6759-40f6-9c76-3b7832acce0b",
   "metadata": {},
   "outputs": [],
   "source": [
    " '''\n",
    "1.15. Una empresa de préstamos decidió cambiar su esquema de cobros así: \n",
    "• Si el préstamo es de más de 5000 euros, cobra en tres cuotas \n",
    "• Si el préstamo es de menos de 1000 euros, cobra en una cuota \n",
    "• Si el préstamo es entre 2000 y 3000 euros cobra en dos cuotas \n",
    "• En los demás casos cobra en cinco cuotas \n",
    "Adicionalmente, si es de menos de 4000 euros cobra el 12% de interés, en caso contrario cobra el 10% de interés. \n",
    "El programa debe decir en cuántas cuotas debe pagar y de cuánto es cada cuota. Para ello, se calcula el valor \n",
    "total de la deuda con interés y se divide en cuotas iguales. \n",
    "'''\n",
    "\n",
    "prestamo = float(input(\"Ingrese el valor que requiere: \"))\n",
    "valor_total = 0\n",
    "\n",
    "if prestamo > 5000:\n",
    "    valor_total = (prestamo * 0.1) / 3\n",
    "    print(\"El valor a pagar sería de tres cuotas de\", valor_total, \"Euros cada una\")\n",
    "elif prestamo < 1000:\n",
    "    valor_total = (prestamo * 0.12) / 1\n",
    "    print(\"El valor a pagar sería de una cuota con un total de\", valor_total, \"Euros\")\n",
    "elif prestamo >= 2000 and prestamo <= 3000:\n",
    "    valor_total = (prestamo * 0.12) / 2\n",
    "    print(\"El valor a opagar sería de dos cuotas de\", valor_total, \"Euros cada una\")\n",
    "else:\n",
    "    print(\"Cagaste flaco, te vamos a embargar la casa\")\n",
    "    "
   ]
  },
  {
   "cell_type": "code",
   "execution_count": 4,
   "id": "307d8291-8b5b-4e21-a3a1-d4480469073b",
   "metadata": {},
   "outputs": [
    {
     "name": "stdout",
     "output_type": "stream",
     "text": [
      "(True, 2, 2.3, 'Talento tech')\n",
      "1\n"
     ]
    }
   ],
   "source": [
    "#TUPLAS\n",
    "\n",
    "mi_tupla = (True, 2, 2.3, \"Talento tech\")\n",
    "print(mi_tupla)\n",
    "\n",
    "conteo = mi_tupla.count(2)\n",
    "print(conteo)"
   ]
  },
  {
   "cell_type": "code",
   "execution_count": 11,
   "id": "9b4ac80f-1429-42cb-877f-017b344b17c2",
   "metadata": {},
   "outputs": [
    {
     "data": {
      "text/plain": [
       "33"
      ]
     },
     "execution_count": 11,
     "metadata": {},
     "output_type": "execute_result"
    }
   ],
   "source": [
    "#Diccionarios\n",
    "\n",
    "mi_d = {\n",
    "    \"texto\": 33,\n",
    "    3 : \"Hola\",\n",
    "    True : False,\n",
    "    \"item\": [1,2,3,4]\n",
    "}\n",
    "\n",
    "mi_d[\"item\"][2]\n",
    "mi_d.keys()\n",
    "mi_d.get(\"texto\", 33)\n"
   ]
  },
  {
   "cell_type": "code",
   "execution_count": 16,
   "id": "2e242fa7-a881-4bf3-b6c8-d45e5fa23aae",
   "metadata": {},
   "outputs": [
    {
     "name": "stdout",
     "output_type": "stream",
     "text": [
      "La suma de los valores ingresados es 11\n"
     ]
    }
   ],
   "source": [
    "##### fUNCIONES\n",
    "'''\n",
    "3.1. Crear una función llamada \"suma\", que reciba como parámetros dos números enteros y devuelva como resultado \n",
    "otro número entero que sea la suma de ambos. \n",
    "'''\n",
    "\n",
    "def suma(valor_uno, valor_dos):\n",
    "    result = valor_uno + valor_dos\n",
    "    return result\n",
    "'''\n",
    "Esta función sirve para realizar una suma\n",
    "\n",
    "Parametros:\n",
    "valor_uno: int\n",
    "valor_dos: int\n",
    "'''\n",
    "\n",
    "print(\"La suma de los valores ingresados es\", suma(5,6))"
   ]
  },
  {
   "cell_type": "code",
   "execution_count": 23,
   "id": "b5a00bfc-8721-4abf-be9b-6db7a6fac6ce",
   "metadata": {},
   "outputs": [
    {
     "name": "stdout",
     "output_type": "stream",
     "text": [
      "La división de los dos numeros es 5.0\n"
     ]
    }
   ],
   "source": [
    "'''\n",
    "3.2. Crear una función llamada \"division\", que reciba como parámetros dos números enteros y devuelva como \n",
    "resultado un número real, que sea el resultado de dividir el primer número entre el segundo (con decimales). \n",
    "'''\n",
    "\n",
    "def division(val_uno, val_dos):\n",
    "    result = float(val_uno / val_dos)\n",
    "    return result\n",
    "\n",
    "'''\n",
    "Función que devuelve el valor de la división de dos valores enteros como real\n",
    "\n",
    "Parametros:\n",
    "val_uno: int\n",
    "val_dos: int\n",
    "'''\n",
    "\n",
    "print(\"La división de los dos numeros es\", division(20,4))"
   ]
  },
  {
   "cell_type": "code",
   "execution_count": 26,
   "id": "2fce4019-6005-424f-b3bc-710ff550f15d",
   "metadata": {},
   "outputs": [
    {
     "name": "stdin",
     "output_type": "stream",
     "text": [
      "Ingresa una letra u\n",
      "Ingresa un número 20\n"
     ]
    },
    {
     "name": "stdout",
     "output_type": "stream",
     "text": [
      "La letra se repite 20 así uuuuuuuuuuuuuuuuuuuu\n"
     ]
    }
   ],
   "source": [
    "'''\n",
    "3.3. Crear una función llamada \"letraRepetida\", que reciba como parámetros una letra y un número, y escriba en \n",
    "pantalla esa letra repetida en pantalla varias veces (tantas como indique el número), sin devolver ningún valor. \n",
    "'''\n",
    "def letra_repetida(letra, num):\n",
    "    result = letra * num\n",
    "    return result\n",
    "'''\n",
    "Funcíon que recibe una letra y un número y devuelve como resultado la letra siendo repetida\n",
    "la cantidad de veces según el número ingresado.\n",
    "\n",
    "Parametros:\n",
    "letra: str\n",
    "num: int\n",
    "'''\n",
    "letras = input(\"Ingresa una letra\")\n",
    "numero = int(input(\"Ingresa un número\"))\n",
    "\n",
    "print(\"La letra se repite\", numero, \"así\", letra_repetida(letras, numero))"
   ]
  },
  {
   "cell_type": "code",
   "execution_count": 34,
   "id": "c0830764-394b-40ef-a55a-bce03a4935d3",
   "metadata": {},
   "outputs": [
    {
     "name": "stdout",
     "output_type": "stream",
     "text": [
      "                              \u001b[4mHola Mundo!\u001b[0m\n"
     ]
    }
   ],
   "source": [
    "'''\n",
    "3.4. Crear una función llamada \"rotulo\", que tome como parámetro una cadena de texto, no devuelva ningún valor, y \n",
    "escriba en pantalla ese texto centrado (suponiendo una anchura de pantalla de 80 letras) y en la línea siguiente \n",
    "escriba guiones para que el rótulo parezca subrayado (tantos guiones como letras formen la palabra). \n",
    "'''\n",
    "\n",
    "def rotulo(cadena, anc):\n",
    "    '''\n",
    "    Funcíon que devuelve una cadena de texto subrayada\n",
    "\n",
    "    se usa 033[4m al incio de la cadena y 033[0m al final\n",
    "    para subrayar la palabra.\n",
    "    '''\n",
    "    espacios = (anc - len(cadena)) // 2\n",
    "    print(\" \" * espacios + cadena)\n",
    "\n",
    "cadena_texto = \"\\033[4mHola Mundo!\\033[0m\"\n",
    "rotulo(cadena_texto, 80)"
   ]
  },
  {
   "cell_type": "code",
   "execution_count": 56,
   "id": "6e547cab-e57f-4118-868e-5e3672e81d72",
   "metadata": {},
   "outputs": [
    {
     "name": "stdin",
     "output_type": "stream",
     "text": [
      "Ingresa un valor positivo 4\n",
      "Ingresa un valor negativo -9\n",
      "Ingresa un valor positivo 2\n"
     ]
    },
    {
     "name": "stdout",
     "output_type": "stream",
     "text": [
      "La primera solución es La raíz es real 2.0\n",
      "La segunda solución es La raíz es diferente 0.25\n"
     ]
    }
   ],
   "source": [
    "'''\n",
    "3.5. Crea dos funciones \"solucionRC1\" y \"solucionRC2\" que devuelvan las dos raíces de una ecuación de segundo \n",
    "grado. Además, deberás crear una función \"existeSolucionRC\", que devuelva un 1 si la raíz cuadrada tiene \n",
    "solución, o un 0, si no la tiene.\n",
    "'''\n",
    "import math\n",
    "\n",
    "def solucionRC1(raiz):\n",
    "    '''\n",
    "    Función que recibe el resultado de la primera evaluación de la ecuación cuadratica de\n",
    "    segundo grado para calcular la raíz\n",
    "\n",
    "    Parametros:\n",
    "    discrim: int\n",
    "    '''\n",
    "    raiz_uno = (-b + raiz ** 0.5) / (2 * a)\n",
    "    return f\"La raíz es real {raiz_uno}\"\n",
    "\n",
    "def solucionRC2(raiz):\n",
    "    '''\n",
    "    Función que recibe el resultado de la primera evaluación de la ecuación cuadratica de\n",
    "    segundo grado para calcular la raíz\n",
    "\n",
    "    Parametros:\n",
    "    discrim: int\n",
    "    '''\n",
    "    raiz_dos = (-b - raiz ** 0.5) / (2 * a)\n",
    "    return f\"La raíz es diferente {raiz_dos}\"\n",
    "\n",
    "\n",
    "\n",
    "a = int(input(\"Ingresa un valor positivo\"))\n",
    "b = int(input(\"Ingresa un valor negativo\"))\n",
    "c = int(input(\"Ingresa un valor positivo\"))\n",
    "\n",
    "discrim = b**2 - 4*a*c\n",
    "print(\"La primera solución es:\", solucionRC1(discrim))\n",
    "print(\"La segunda solución es:\", solucionRC2(discrim))"
   ]
  },
  {
   "cell_type": "code",
   "execution_count": 65,
   "id": "387900e5-b4b6-4113-b3c7-cc4b04b2d447",
   "metadata": {},
   "outputs": [
    {
     "name": "stdin",
     "output_type": "stream",
     "text": [
      "Ingrese un valor a calcular su raíz cubica 160\n"
     ]
    },
    {
     "name": "stdout",
     "output_type": "stream",
     "text": [
      "La raíz cubica de 160 es igual a 5.428835233189813\n"
     ]
    }
   ],
   "source": [
    "'''\n",
    "3.6. Crea una función \"raizCubica\", que calcule la raíz cúbica de un \"real\", y devuelva otro \"real\" (pista: puedes elevar a \n",
    "1/3 para hallarla). \n",
    "'''\n",
    "\n",
    "def raiz_cubica(num):\n",
    "    raiz_num = num ** (1/3) \n",
    "    return f\"La raíz cubica de {num} es igual a {raiz_num}\"\n",
    "\n",
    "num_real = int(input(\"Ingrese un valor a calcular su raíz cubica\"))\n",
    "print(raiz_cubica(num_real))"
   ]
  },
  {
   "cell_type": "code",
   "execution_count": 22,
   "id": "2eab0911-ea71-427c-8ba0-c8ae056cfc65",
   "metadata": {},
   "outputs": [
    {
     "name": "stdout",
     "output_type": "stream",
     "text": [
      "La cantidad de elementos es  50\n",
      "La suma de los elementos es igual a  29500\n",
      "El promedio de los datos es igual a  590.0\n",
      "590.0\n",
      "24\n",
      "[658, 821, 848, 990, 936, 949, 873, 737, 884, 972, 936, 867, 812, 883, 756, 678, 592, 670, 898, 843, 974, 775, 731, 986]\n"
     ]
    },
    {
     "data": {
      "text/plain": [
       "[592,\n",
       " 658,\n",
       " 670,\n",
       " 678,\n",
       " 731,\n",
       " 737,\n",
       " 756,\n",
       " 775,\n",
       " 812,\n",
       " 821,\n",
       " 843,\n",
       " 848,\n",
       " 867,\n",
       " 873,\n",
       " 883,\n",
       " 884,\n",
       " 898,\n",
       " 936,\n",
       " 936,\n",
       " 949,\n",
       " 972,\n",
       " 974,\n",
       " 986,\n",
       " 990]"
      ]
     },
     "execution_count": 22,
     "metadata": {},
     "output_type": "execute_result"
    }
   ],
   "source": [
    "'''\n",
    "Primer ejercicio de Arreglos\n",
    "Calcular el promedio de 50 valores almacenados en un vector. Determinar además cuantos son mayores que el \n",
    "promedio, imprimir el promedio, el número de datos mayores que el promedio y una lista de valores mayores que \n",
    "el promedio. \n",
    "'''\n",
    "import random\n",
    "\n",
    "the_list = [random.randint(1, 1000) for _ in range(50)]\n",
    "cantidad_elementos = len(the_list)\n",
    "print(\"La cantidad de elementos es \", cantidad_elementos)\n",
    "\n",
    "suma_elementos = sum(the_list)\n",
    "print(\"La suma de los elementos es igual a \", suma_elementos)\n",
    "\n",
    "prom_elementos = suma_elementos / 50\n",
    "print(\"El promedio de los datos es igual a \", prom_elementos)\n",
    "\n",
    "#\n",
    "mayores_prom = 0\n",
    "lista_elementos_mayores_avg = []\n",
    "\n",
    "for item in the_list:\n",
    "    if item > prom_elementos:\n",
    "        mayores_prom += 1\n",
    "        lista_elementos_mayores_avg.append(item)\n",
    "\n",
    "print(prom_elementos)\n",
    "print(mayores_prom)\n",
    "print(lista_elementos_mayores_avg)\n",
    "lista_elementos_mayores_avg.sort()\n",
    "lista_elementos_mayores_avg"
   ]
  },
  {
   "cell_type": "code",
   "execution_count": 23,
   "id": "2a93bcfb-b102-4ee8-beb9-5f73821f5639",
   "metadata": {},
   "outputs": [
    {
     "name": "stdin",
     "output_type": "stream",
     "text": [
      "Por favor ingrese un número:  7\n",
      "Por favor ingrese un número o 0 para finalizar:  8\n",
      "Por favor ingrese un número o 0 para finalizar:  0\n"
     ]
    },
    {
     "name": "stdout",
     "output_type": "stream",
     "text": [
      "7.5\n"
     ]
    }
   ],
   "source": [
    "'''\n",
    "Realizar un programa que solicite numeros al usuario, el usuario debe ingresar los numeros hasta que ingrese 0, al finalizar\n",
    "debe entregar el promedio de los números ingresados por el usuario\n",
    "'''\n",
    "\n",
    "num_n = float(input(\"Por favor ingrese un número: \"))\n",
    "suma = num_n\n",
    "contador = 1\n",
    "while True:\n",
    "    num_n = float(input(\"Por favor ingrese un número o 0 para finalizar: \")) \n",
    "    suma += num_n\n",
    "    if num_n == 0:\n",
    "        break\n",
    "    else:\n",
    "        contador += 1\n",
    "\n",
    "promedio = suma/contador\n",
    "print(promedio)"
   ]
  },
  {
   "cell_type": "code",
   "execution_count": 24,
   "id": "4b33b02c-6bcf-4890-9f31-3572ad3405d6",
   "metadata": {},
   "outputs": [
    {
     "name": "stdin",
     "output_type": "stream",
     "text": [
      "Ingrese un número de hasta donde quiere ver la serie de Fibonacci:  6\n"
     ]
    },
    {
     "name": "stdout",
     "output_type": "stream",
     "text": [
      "1\n",
      "1\n",
      "2\n",
      "3\n",
      "5\n",
      "8\n"
     ]
    }
   ],
   "source": [
    "'''\n",
    "Realice un algoritmo que muestre al usuario los primeros n numeros de la serie de Fibonacci\n",
    "'''\n",
    "n = int(input(\"Ingrese un número de hasta donde quiere ver la serie de Fibonacci: \"))\n",
    "a = 1\n",
    "aux = 0\n",
    "b = 0\n",
    "for i in range(n):\n",
    "    print(a)\n",
    "    b = a\n",
    "    a += aux\n",
    "    aux = b"
   ]
  },
  {
   "cell_type": "code",
   "execution_count": 25,
   "id": "27ed3e23-4d15-4bbe-8675-f8714c72247f",
   "metadata": {},
   "outputs": [
    {
     "name": "stdin",
     "output_type": "stream",
     "text": [
      "Ingrese la nota:  6\n",
      "Ingrese la nota:  7\n",
      "Ingrese la nota:  4\n",
      "Ingrese la nota:  2\n",
      "Ingrese la nota:  3\n",
      "Ingrese la nota:  1\n",
      "Ingrese la nota:  2\n"
     ]
    },
    {
     "name": "stdout",
     "output_type": "stream",
     "text": [
      "El promedio de las notas del alumno es:  0.5714285714285714\n"
     ]
    }
   ],
   "source": [
    "#Ejercicio 2.3\n",
    "\n",
    "nota = 0\n",
    "\n",
    "for x in range(7):\n",
    "    nota = float(input(\"Ingrese la nota: \"))\n",
    "    nota += nota\n",
    "\n",
    "print(\"El promedio de las notas del alumno es: \", nota/7)"
   ]
  },
  {
   "cell_type": "code",
   "execution_count": null,
   "id": "7cad4c9c-8feb-4f4f-817a-444a85045c8c",
   "metadata": {},
   "outputs": [],
   "source": []
  }
 ],
 "metadata": {
  "kernelspec": {
   "display_name": "Python 3 (ipykernel)",
   "language": "python",
   "name": "python3"
  },
  "language_info": {
   "codemirror_mode": {
    "name": "ipython",
    "version": 3
   },
   "file_extension": ".py",
   "mimetype": "text/x-python",
   "name": "python",
   "nbconvert_exporter": "python",
   "pygments_lexer": "ipython3",
   "version": "3.12.7"
  }
 },
 "nbformat": 4,
 "nbformat_minor": 5
}
